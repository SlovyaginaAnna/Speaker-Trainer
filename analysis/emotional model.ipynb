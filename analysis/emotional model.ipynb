{
 "cells": [
  {
   "cell_type": "code",
   "execution_count": null,
   "metadata": {
    "colab": {
     "base_uri": "https://localhost:8080/"
    },
    "id": "R-4iz-qibMQW",
    "outputId": "c92023cf-8f01-4253-fc1a-eaaa4d05abb7"
   },
   "outputs": [
    {
     "name": "stdout",
     "output_type": "stream",
     "text": [
      "Archive:  videos.zip\n",
      "   creating: videos/\n",
      "  inflating: videos/1 (0,2).mp4      \n",
      "  inflating: videos/10 (0,25).mp4    \n",
      "  inflating: videos/100 (0,1).mp4    \n",
      "  inflating: videos/11 (0,25).mp4    \n",
      "  inflating: videos/12 (0,25).mp4    \n",
      "  inflating: videos/13 (0,25).mp4    \n",
      "  inflating: videos/14 (0,25).mp4    \n",
      "  inflating: videos/15 (0,25).mp4    \n",
      "  inflating: videos/16 (0,25).mp4    \n",
      "  inflating: videos/17 (0,25).mp4    \n",
      "  inflating: videos/18 (0,25).mp4    \n",
      "  inflating: videos/19 (0,25).mp4    \n",
      "  inflating: videos/2 (0,25).mp4     \n",
      "  inflating: videos/20 (0,25).mp4    \n",
      "  inflating: videos/21 (0,25).mp4    \n",
      "  inflating: videos/22 (0,25).mp4    \n",
      "  inflating: videos/23 (0,25).mp4    \n",
      "  inflating: videos/24 (0,25).mp4    \n",
      "  inflating: videos/25 (0,15).mp4    \n",
      "  inflating: videos/26 (0,25).mp4    \n",
      "  inflating: videos/27 (0,2).mp4     \n",
      "  inflating: videos/28 (0,2).mp4     \n",
      "  inflating: videos/29 (0,2).mp4     \n",
      "  inflating: videos/3 (0,25).mp4     \n",
      "  inflating: videos/30 (0,2).mp4     \n",
      "  inflating: videos/31 (0,2).mp4     \n",
      "  inflating: videos/32 (0,2).mp4     \n",
      "  inflating: videos/33 (0,2).mp4     \n",
      "  inflating: videos/34 (0,2).mp4     \n",
      "  inflating: videos/35 (0,2).mp4     \n",
      "  inflating: videos/36 (0,2).mp4     \n",
      "  inflating: videos/37 (0,2).mp4     \n",
      "  inflating: videos/38 (0,2).mp4     \n",
      "  inflating: videos/39 (0,1).mp4     \n",
      "  inflating: videos/4 (0,25).mp4     \n",
      "  inflating: videos/40 (0,1).mp4     \n",
      "  inflating: videos/41 (0,1).mp4     \n",
      "  inflating: videos/42 (0,1).mp4     \n",
      "  inflating: videos/43 (0,1).mp4     \n",
      "  inflating: videos/44 (0,1).mp4     \n",
      "  inflating: videos/45 (0,1).mp4     \n",
      "  inflating: videos/46 (0,1).mp4     \n",
      "  inflating: videos/47 (0,1).mp4     \n",
      "  inflating: videos/48 (0,1).mp4     \n",
      "  inflating: videos/49 (0,1).mp4     \n",
      "  inflating: videos/5 (0,25).mp4     \n",
      "  inflating: videos/50 (0,1).mp4     \n",
      "  inflating: videos/51 (0,1).mp4     \n",
      "  inflating: videos/52 (0,1).mp4     \n",
      "  inflating: videos/53 (0,1).mp4     \n",
      "  inflating: videos/54 (0,1).mp4     \n",
      "  inflating: videos/55 (0,1).mp4     \n",
      "  inflating: videos/56 (0,1).mp4     \n",
      "  inflating: videos/57 (0,1).mp4     \n",
      "  inflating: videos/58 (0,1).mp4     \n",
      "  inflating: videos/59 (0,1).mp4     \n",
      "  inflating: videos/6 (0,25).mp4     \n",
      "  inflating: videos/60 (0,1).mp4     \n",
      "  inflating: videos/61 (0,1).mp4     \n",
      "  inflating: videos/62 (0,1).mp4     \n",
      "  inflating: videos/63 (0,1).mp4     \n",
      "  inflating: videos/64 (0,1).mp4     \n",
      "  inflating: videos/65 (0,1).mp4     \n",
      "  inflating: videos/66 (0,1).mp4     \n",
      "  inflating: videos/67 (0,1).mp4     \n",
      "  inflating: videos/68 (0,1).mp4     \n",
      "  inflating: videos/69 (0,15).mp4    \n",
      "  inflating: videos/7 (0,25).mp4     \n",
      "  inflating: videos/70 (0,15).mp4    \n",
      "  inflating: videos/71 (0,15).mp4    \n",
      "  inflating: videos/72 (0,15).mp4    \n",
      "  inflating: videos/73 (0,15).mp4    \n",
      "  inflating: videos/74 (0,15).mp4    \n",
      "  inflating: videos/75 (0,15).mp4    \n",
      "  inflating: videos/76 (0,1).mp4     \n",
      "  inflating: videos/77 (0,1).mp4     \n",
      "  inflating: videos/78 (0,1).mp4     \n",
      "  inflating: videos/79 (0,1).mp4     \n",
      "  inflating: videos/8 (0,25).mp4     \n",
      "  inflating: videos/80 (0,1).mp4     \n",
      "  inflating: videos/81 (0,1).mp4     \n",
      "  inflating: videos/82 (0,1).mp4     \n",
      "  inflating: videos/83 (0,1).mp4     \n",
      "  inflating: videos/84 (0,1).mp4     \n",
      "  inflating: videos/85 (0,1).mp4     \n",
      "  inflating: videos/86 (0,1).mp4     \n",
      "  inflating: videos/87 (0,1).mp4     \n",
      "  inflating: videos/88 (0,1).mp4     \n",
      "  inflating: videos/89 (0,1).mp4     \n",
      "  inflating: videos/9 (0,25).mp4     \n",
      "  inflating: videos/90 (0,1).mp4     \n",
      "  inflating: videos/91 (0,1).mp4     \n",
      "  inflating: videos/92 (0,1).mp4     \n",
      "  inflating: videos/93 (0,1).mp4     \n",
      "  inflating: videos/94 (0,1).mp4     \n",
      "  inflating: videos/95 (0,1).mp4     \n",
      "  inflating: videos/96 (0).mp4       \n",
      "  inflating: videos/97 (0).mp4       \n",
      "  inflating: videos/98 (0,1).mp4     \n",
      "  inflating: videos/99 (0,1).mp4     \n",
      "Archive:  normal.zip\n",
      "   creating: normal/\n",
      "  inflating: normal/1 (0,35).mp4     \n",
      "  inflating: normal/10 (0,6).mp4     \n",
      "  inflating: normal/100 (0,6).mp4    \n",
      "  inflating: normal/11 (0,6).mp4     \n",
      "  inflating: normal/12 (0,6).mp4     \n",
      "  inflating: normal/13 (0,6).mp4     \n",
      "  inflating: normal/14 (0,6).mp4     \n",
      "  inflating: normal/15 (0,6).mp4     \n",
      "  inflating: normal/16 (0,6).mp4     \n",
      "  inflating: normal/17 (0,6).mp4     \n",
      "  inflating: normal/18 (0,6).mp4     \n",
      "  inflating: normal/19 (0,6).mp4     \n",
      "  inflating: normal/2 (0,4).mp4      \n",
      "  inflating: normal/20 (0,6).mp4     \n",
      "  inflating: normal/21 (0,6).mp4     \n",
      "  inflating: normal/22 (0,6).mp4     \n",
      "  inflating: normal/23 (0,6).mp4     \n",
      "  inflating: normal/24 (0,6).mp4     \n",
      "  inflating: normal/25 (0,6).mp4     \n",
      "  inflating: normal/26 (0,6).mp4     \n",
      "  inflating: normal/27 (0,6).mp4     \n",
      "  inflating: normal/28 (0,55).mp4    \n",
      "  inflating: normal/29 (0,55).mp4    \n",
      "  inflating: normal/3 (0,6).mp4      \n",
      "  inflating: normal/30 (0,55).mp4    \n",
      "  inflating: normal/31 (0,55).mp4    \n",
      "  inflating: normal/32 (0,55).mp4    \n",
      "  inflating: normal/33 (0,55).mp4    \n",
      "  inflating: normal/34 (0,55).mp4    \n",
      "  inflating: normal/35 (0,55).mp4    \n",
      "  inflating: normal/36 (0,55).mp4    \n",
      "  inflating: normal/37 (0,55).mp4    \n",
      "  inflating: normal/38 (0,55).mp4    \n",
      "  inflating: normal/39 (0,55).mp4    \n",
      "  inflating: normal/4 (0,6).mp4      \n",
      "  inflating: normal/40 (0,55).mp4    \n",
      "  inflating: normal/41 (0,55).mp4    \n",
      "  inflating: normal/42 (0,55).mp4    \n",
      "  inflating: normal/43 (0,55).mp4    \n",
      "  inflating: normal/44 (0,55).mp4    \n",
      "  inflating: normal/45 (0,55).mp4    \n",
      "  inflating: normal/46 (0,55).mp4    \n",
      "  inflating: normal/47 (0,55).mp4    \n",
      "  inflating: normal/48 (0,55).mp4    \n",
      "  inflating: normal/49 (0,55).mp4    \n",
      "  inflating: normal/5 (0,6).mp4      \n",
      "  inflating: normal/50 (0,55).mp4    \n",
      "  inflating: normal/51 (0,5).mp4     \n",
      "  inflating: normal/52 (0,5).mp4     \n",
      "  inflating: normal/53 (0,5).mp4     \n",
      "  inflating: normal/54 (0,5).mp4     \n",
      "  inflating: normal/55 (0,5).mp4     \n",
      "  inflating: normal/56 (0,5).mp4     \n",
      "  inflating: normal/57 (0,5).mp4     \n",
      "  inflating: normal/58 (0,5).mp4     \n",
      "  inflating: normal/59 (0,5).mp4     \n",
      "  inflating: normal/6 (0,6).mp4      \n",
      "  inflating: normal/60 (0,5).mp4     \n",
      "  inflating: normal/61 (0,5).mp4     \n",
      "  inflating: normal/62 (0,5).mp4     \n",
      "  inflating: normal/63 (0,5).mp4     \n",
      "  inflating: normal/64 (0,5).mp4     \n",
      "  inflating: normal/65 (0,5).mp4     \n",
      "  inflating: normal/66 (0,5).mp4     \n",
      "  inflating: normal/67 (0,5).mp4     \n",
      "  inflating: normal/68 (0,5).mp4     \n",
      "  inflating: normal/69 (0,5).mp4     \n",
      "  inflating: normal/7 (0,6).mp4      \n",
      "  inflating: normal/70 (0,5).mp4     \n",
      "  inflating: normal/71 (0,5).mp4     \n",
      "  inflating: normal/72 (0,5).mp4     \n",
      "  inflating: normal/73 (0,5).mp4     \n",
      "  inflating: normal/74 (0,5).mp4     \n",
      "  inflating: normal/75 (0,6).mp4     \n",
      "  inflating: normal/76 (0,4).mp4     \n",
      "  inflating: normal/77 (0,3).mp4     \n",
      "  inflating: normal/78 (0,35).mp4    \n",
      "  inflating: normal/79 (0,35).mp4    \n",
      "  inflating: normal/8 (0,6).mp4      \n",
      "  inflating: normal/80 (0,3).mp4     \n",
      "  inflating: normal/81 (0,3).mp4     \n",
      "  inflating: normal/82 (0,3).mp4     \n",
      "  inflating: normal/83 (0,3).mp4     \n",
      "  inflating: normal/84 (0,3).mp4     \n",
      "  inflating: normal/85 (0,3).mp4     \n",
      "  inflating: normal/86 (0,35).mp4    \n",
      "  inflating: normal/87 (0,45).mp4    \n",
      "  inflating: normal/88 (0,3).mp4     \n",
      "  inflating: normal/89 (0,35).mp4    \n",
      "  inflating: normal/9 (0,6).mp4      \n",
      "  inflating: normal/90 (0,35).mp4    \n",
      "  inflating: normal/91 (0,4).mp4     \n",
      "  inflating: normal/92 (0,35).mp4    \n",
      "  inflating: normal/93 (0,5).mp4     \n",
      "  inflating: normal/94 (0,4).mp4     \n",
      "  inflating: normal/95 (0,35).mp4    \n",
      "  inflating: normal/96 (0,55).mp4    \n",
      "  inflating: normal/97 (0,65).mp4    \n",
      "  inflating: normal/98 (0,45).mp4    \n",
      "  inflating: normal/99 (0,4).mp4     \n",
      "Archive:  emotional.zip\n",
      "   creating: emotional/\n",
      "  inflating: emotional/1 (0,9).mp4   \n",
      "  inflating: emotional/10 (0,8).mp4  \n",
      "  inflating: emotional/100 (0,85).mp4  \n",
      "  inflating: emotional/11 (0,8).mp4  \n",
      "  inflating: emotional/12 (0,85).mp4  \n",
      "  inflating: emotional/13 (0,85).mp4  \n",
      "  inflating: emotional/14 (0,75).mp4  \n",
      "  inflating: emotional/15 (0,7).mp4  \n",
      "  inflating: emotional/16 (1).mp4    \n",
      "  inflating: emotional/17 (0,8).mp4  \n",
      "  inflating: emotional/18 (0,8).mp4  \n",
      "  inflating: emotional/19 (0,85).mp4  \n",
      "  inflating: emotional/2 (0,95).mp4  \n",
      "  inflating: emotional/20 (0,8).mp4  \n",
      "  inflating: emotional/21 (0,75).mp4  \n",
      "  inflating: emotional/22 (0,75).mp4  \n",
      "  inflating: emotional/23 (0,8).mp4  \n",
      "  inflating: emotional/24 (0,85).mp4  \n",
      "  inflating: emotional/25 (0,9).mp4  \n",
      "  inflating: emotional/26 (0,85).mp4  \n",
      "  inflating: emotional/27 (0,85).mp4  \n",
      "  inflating: emotional/28 (0,8).mp4  \n",
      "  inflating: emotional/29 (0,8).mp4  \n",
      "  inflating: emotional/3 (0,85).mp4  \n",
      "  inflating: emotional/30 (0,75).mp4  \n",
      "  inflating: emotional/31 (0,8).mp4  \n",
      "  inflating: emotional/32 (0,8).mp4  \n",
      "  inflating: emotional/33 (0,9).mp4  \n",
      "  inflating: emotional/34 (0,85).mp4  \n",
      "  inflating: emotional/35 (0,85).mp4  \n",
      "  inflating: emotional/36 (0,9).mp4  \n",
      "  inflating: emotional/37 (0,8).mp4  \n",
      "  inflating: emotional/38 (0,95).mp4  \n",
      "  inflating: emotional/39 (0,9).mp4  \n",
      "  inflating: emotional/4 (0,9).mp4   \n",
      "  inflating: emotional/40 (0,85).mp4  \n",
      "  inflating: emotional/41 (0,85).mp4  \n",
      "  inflating: emotional/42 (0,9).mp4  \n",
      "  inflating: emotional/43 (0,75).mp4  \n",
      "  inflating: emotional/44 (0,85).mp4  \n",
      "  inflating: emotional/45 (0,85).mp4  \n",
      "  inflating: emotional/46 (0,9).mp4  \n",
      "  inflating: emotional/47 (0,85).mp4  \n",
      "  inflating: emotional/48 (0,85).mp4  \n",
      "  inflating: emotional/49 (0,9).mp4  \n",
      "  inflating: emotional/5 (0,8).mp4   \n",
      "  inflating: emotional/50 (0,95).mp4  \n",
      "  inflating: emotional/51 (0,9).mp4  \n",
      "  inflating: emotional/52 (0,75).mp4  \n",
      "  inflating: emotional/53 (0,75).mp4  \n",
      "  inflating: emotional/54 (0,7).mp4  \n",
      "  inflating: emotional/55 (0,85).mp4  \n",
      "  inflating: emotional/56 (0,8).mp4  \n",
      "  inflating: emotional/57 (0,8).mp4  \n",
      "  inflating: emotional/58 (0,8).mp4  \n",
      "  inflating: emotional/59 (0,85).mp4  \n",
      "  inflating: emotional/6 (0,85).mp4  \n",
      "  inflating: emotional/60 (0,85).mp4  \n",
      "  inflating: emotional/61 (0,85).mp4  \n",
      "  inflating: emotional/62 (0,8).mp4  \n",
      "  inflating: emotional/63 (0,75).mp4  \n",
      "  inflating: emotional/64 (0,75).mp4  \n",
      "  inflating: emotional/65 (0,8).mp4  \n",
      "  inflating: emotional/66 (0,85).mp4  \n",
      "  inflating: emotional/67 (0,8).mp4  \n",
      "  inflating: emotional/68 (0,75).mp4  \n",
      "  inflating: emotional/69 (0,7).mp4  \n",
      "  inflating: emotional/7 (0,8).mp4   \n",
      "  inflating: emotional/70 (0,7).mp4  \n",
      "  inflating: emotional/71 (0,8).mp4  \n",
      "  inflating: emotional/72 (0,75).mp4  \n",
      "  inflating: emotional/73 (0,8).mp4  \n",
      "  inflating: emotional/74 (0,7).mp4  \n",
      "  inflating: emotional/75 (0,75).mp4  \n",
      "  inflating: emotional/76 (0,8).mp4  \n",
      "  inflating: emotional/77 (0,8).mp4  \n",
      "  inflating: emotional/78 (0,75).mp4  \n",
      "  inflating: emotional/79 (0,8).mp4  \n",
      "  inflating: emotional/8 (0,75).mp4  \n",
      "  inflating: emotional/80 (0,85).mp4  \n",
      "  inflating: emotional/81 (0,85).mp4  \n",
      "  inflating: emotional/82 (0,8).mp4  \n",
      "  inflating: emotional/83 (0,8).mp4  \n",
      "  inflating: emotional/84 (0,85).mp4  \n",
      "  inflating: emotional/85 (0,85).mp4  \n",
      "  inflating: emotional/86 (0,9).mp4  \n",
      "  inflating: emotional/87 (0,85).mp4  \n",
      "  inflating: emotional/88 (0,8).mp4  \n",
      "  inflating: emotional/89 (0,8).mp4  \n",
      "  inflating: emotional/9 (0,75).mp4  \n",
      "  inflating: emotional/90 (0,8).mp4  \n",
      "  inflating: emotional/91 (0,8).mp4  \n",
      "  inflating: emotional/92 (0,85).mp4  \n",
      "  inflating: emotional/93 (0,85).mp4  \n",
      "  inflating: emotional/94 (0,8).mp4  \n",
      "  inflating: emotional/95 (0,8).mp4  \n",
      "  inflating: emotional/96 (0,8).mp4  \n",
      "  inflating: emotional/97 (0,85).mp4  \n",
      "  inflating: emotional/98 (0,75).mp4  \n",
      "  inflating: emotional/99 (0,85).mp4  \n"
     ]
    }
   ],
   "source": [
    "!unzip videos.zip\n",
    "!unzip normal.zip\n",
    "!unzip emotional.zip"
   ]
  },
  {
   "cell_type": "code",
   "execution_count": 2,
   "metadata": {
    "colab": {
     "base_uri": "https://localhost:8080/"
    },
    "id": "1UrYK_geAkOl",
    "outputId": "b6dd20d4-0c6e-4a43-bdfd-6da07f403b92"
   },
   "outputs": [
    {
     "name": "stdout",
     "output_type": "stream",
     "text": [
      "Requirement already satisfied: hsemotion in c:\\users\\operator\\anaconda3\\lib\\site-packages (0.3.0)\n",
      "Requirement already satisfied: numpy in c:\\users\\operator\\anaconda3\\lib\\site-packages (from hsemotion) (1.24.3)\n",
      "Requirement already satisfied: pillow in c:\\users\\operator\\anaconda3\\lib\\site-packages (from hsemotion) (9.4.0)\n",
      "Requirement already satisfied: torch in c:\\users\\operator\\anaconda3\\lib\\site-packages (from hsemotion) (2.1.0)\n",
      "Requirement already satisfied: torchvision in c:\\users\\operator\\anaconda3\\lib\\site-packages (from hsemotion) (0.16.0)\n",
      "Requirement already satisfied: timm in c:\\users\\operator\\anaconda3\\lib\\site-packages (from hsemotion) (0.9.8)\n",
      "Requirement already satisfied: pyyaml in c:\\users\\operator\\anaconda3\\lib\\site-packages (from timm->hsemotion) (6.0)\n",
      "Requirement already satisfied: huggingface-hub in c:\\users\\operator\\anaconda3\\lib\\site-packages (from timm->hsemotion) (0.18.0)\n",
      "Requirement already satisfied: safetensors in c:\\users\\operator\\anaconda3\\lib\\site-packages (from timm->hsemotion) (0.4.0)\n",
      "Requirement already satisfied: filelock in c:\\users\\operator\\anaconda3\\lib\\site-packages (from torch->hsemotion) (3.9.0)\n",
      "Requirement already satisfied: typing-extensions in c:\\users\\operator\\anaconda3\\lib\\site-packages (from torch->hsemotion) (4.6.3)\n",
      "Requirement already satisfied: sympy in c:\\users\\operator\\anaconda3\\lib\\site-packages (from torch->hsemotion) (1.11.1)\n",
      "Requirement already satisfied: networkx in c:\\users\\operator\\anaconda3\\lib\\site-packages (from torch->hsemotion) (2.8.4)\n",
      "Requirement already satisfied: jinja2 in c:\\users\\operator\\anaconda3\\lib\\site-packages (from torch->hsemotion) (3.1.2)\n",
      "Requirement already satisfied: fsspec in c:\\users\\operator\\anaconda3\\lib\\site-packages (from torch->hsemotion) (2023.10.0)\n",
      "Requirement already satisfied: requests in c:\\users\\operator\\anaconda3\\lib\\site-packages (from torchvision->hsemotion) (2.29.0)\n",
      "Requirement already satisfied: tqdm>=4.42.1 in c:\\users\\operator\\anaconda3\\lib\\site-packages (from huggingface-hub->timm->hsemotion) (4.65.0)\n",
      "Requirement already satisfied: packaging>=20.9 in c:\\users\\operator\\anaconda3\\lib\\site-packages (from huggingface-hub->timm->hsemotion) (23.0)\n",
      "Requirement already satisfied: MarkupSafe>=2.0 in c:\\users\\operator\\anaconda3\\lib\\site-packages (from jinja2->torch->hsemotion) (2.1.1)\n",
      "Requirement already satisfied: charset-normalizer<4,>=2 in c:\\users\\operator\\anaconda3\\lib\\site-packages (from requests->torchvision->hsemotion) (2.0.4)\n",
      "Requirement already satisfied: idna<4,>=2.5 in c:\\users\\operator\\anaconda3\\lib\\site-packages (from requests->torchvision->hsemotion) (3.4)\n",
      "Requirement already satisfied: urllib3<1.27,>=1.21.1 in c:\\users\\operator\\anaconda3\\lib\\site-packages (from requests->torchvision->hsemotion) (1.26.16)\n",
      "Requirement already satisfied: certifi>=2017.4.17 in c:\\users\\operator\\anaconda3\\lib\\site-packages (from requests->torchvision->hsemotion) (2023.5.7)\n",
      "Requirement already satisfied: mpmath>=0.19 in c:\\users\\operator\\anaconda3\\lib\\site-packages (from sympy->torch->hsemotion) (1.2.1)\n",
      "Requirement already satisfied: colorama in c:\\users\\operator\\anaconda3\\lib\\site-packages (from tqdm>=4.42.1->huggingface-hub->timm->hsemotion) (0.4.6)\n",
      "Requirement already satisfied: mediapipe in c:\\users\\operator\\anaconda3\\lib\\site-packages (0.10.11)\n",
      "Requirement already satisfied: absl-py in c:\\users\\operator\\anaconda3\\lib\\site-packages (from mediapipe) (2.0.0)\n",
      "Requirement already satisfied: attrs>=19.1.0 in c:\\users\\operator\\anaconda3\\lib\\site-packages (from mediapipe) (22.1.0)\n",
      "Requirement already satisfied: flatbuffers>=2.0 in c:\\users\\operator\\anaconda3\\lib\\site-packages (from mediapipe) (23.5.26)\n",
      "Requirement already satisfied: jax in c:\\users\\operator\\anaconda3\\lib\\site-packages (from mediapipe) (0.4.26)\n",
      "Requirement already satisfied: matplotlib in c:\\users\\operator\\anaconda3\\lib\\site-packages (from mediapipe) (3.7.1)\n",
      "Requirement already satisfied: numpy in c:\\users\\operator\\anaconda3\\lib\\site-packages (from mediapipe) (1.24.3)\n",
      "Requirement already satisfied: opencv-contrib-python in c:\\users\\operator\\anaconda3\\lib\\site-packages (from mediapipe) (4.9.0.80)\n",
      "Requirement already satisfied: protobuf<4,>=3.11 in c:\\users\\operator\\anaconda3\\lib\\site-packages (from mediapipe) (3.20.3)\n",
      "Requirement already satisfied: sounddevice>=0.4.4 in c:\\users\\operator\\anaconda3\\lib\\site-packages (from mediapipe) (0.4.6)\n",
      "Requirement already satisfied: CFFI>=1.0 in c:\\users\\operator\\anaconda3\\lib\\site-packages (from sounddevice>=0.4.4->mediapipe) (1.15.1)\n",
      "Requirement already satisfied: ml-dtypes>=0.2.0 in c:\\users\\operator\\anaconda3\\lib\\site-packages (from jax->mediapipe) (0.2.0)\n",
      "Requirement already satisfied: opt-einsum in c:\\users\\operator\\anaconda3\\lib\\site-packages (from jax->mediapipe) (3.3.0)\n",
      "Requirement already satisfied: scipy>=1.9 in c:\\users\\operator\\anaconda3\\lib\\site-packages (from jax->mediapipe) (1.10.1)\n",
      "Requirement already satisfied: contourpy>=1.0.1 in c:\\users\\operator\\anaconda3\\lib\\site-packages (from matplotlib->mediapipe) (1.0.5)\n",
      "Requirement already satisfied: cycler>=0.10 in c:\\users\\operator\\anaconda3\\lib\\site-packages (from matplotlib->mediapipe) (0.11.0)\n",
      "Requirement already satisfied: fonttools>=4.22.0 in c:\\users\\operator\\anaconda3\\lib\\site-packages (from matplotlib->mediapipe) (4.25.0)\n",
      "Requirement already satisfied: kiwisolver>=1.0.1 in c:\\users\\operator\\anaconda3\\lib\\site-packages (from matplotlib->mediapipe) (1.4.4)\n",
      "Requirement already satisfied: packaging>=20.0 in c:\\users\\operator\\anaconda3\\lib\\site-packages (from matplotlib->mediapipe) (23.0)\n",
      "Requirement already satisfied: pillow>=6.2.0 in c:\\users\\operator\\anaconda3\\lib\\site-packages (from matplotlib->mediapipe) (9.4.0)\n",
      "Requirement already satisfied: pyparsing>=2.3.1 in c:\\users\\operator\\anaconda3\\lib\\site-packages (from matplotlib->mediapipe) (3.0.9)\n",
      "Requirement already satisfied: python-dateutil>=2.7 in c:\\users\\operator\\anaconda3\\lib\\site-packages (from matplotlib->mediapipe) (2.8.2)\n",
      "Requirement already satisfied: pycparser in c:\\users\\operator\\anaconda3\\lib\\site-packages (from CFFI>=1.0->sounddevice>=0.4.4->mediapipe) (2.21)\n",
      "Requirement already satisfied: six>=1.5 in c:\\users\\operator\\anaconda3\\lib\\site-packages (from python-dateutil>=2.7->matplotlib->mediapipe) (1.16.0)\n"
     ]
    }
   ],
   "source": [
    "!pip install hsemotion\n",
    "!pip install mediapipe"
   ]
  },
  {
   "cell_type": "code",
   "execution_count": 4,
   "metadata": {
    "id": "QuxmGUSM-VqQ"
   },
   "outputs": [
    {
     "ename": "TypeError",
     "evalue": "validate_params() got an unexpected keyword argument 'prefer_skip_nested_validation'",
     "output_type": "error",
     "traceback": [
      "\u001b[1;31m---------------------------------------------------------------------------\u001b[0m",
      "\u001b[1;31mTypeError\u001b[0m                                 Traceback (most recent call last)",
      "Cell \u001b[1;32mIn[4], line 6\u001b[0m\n\u001b[0;32m      4\u001b[0m \u001b[38;5;28;01mimport\u001b[39;00m \u001b[38;5;21;01mmediapipe\u001b[39;00m \u001b[38;5;28;01mas\u001b[39;00m \u001b[38;5;21;01mmp\u001b[39;00m\n\u001b[0;32m      5\u001b[0m \u001b[38;5;28;01mimport\u001b[39;00m \u001b[38;5;21;01mnumpy\u001b[39;00m \u001b[38;5;28;01mas\u001b[39;00m \u001b[38;5;21;01mnp\u001b[39;00m\n\u001b[1;32m----> 6\u001b[0m \u001b[38;5;28;01mfrom\u001b[39;00m \u001b[38;5;21;01mhsemotion\u001b[39;00m\u001b[38;5;21;01m.\u001b[39;00m\u001b[38;5;21;01mfacial_emotions\u001b[39;00m \u001b[38;5;28;01mimport\u001b[39;00m HSEmotionRecognizer\n\u001b[0;32m      7\u001b[0m \u001b[38;5;28;01mimport\u001b[39;00m \u001b[38;5;21;01mtorch\u001b[39;00m\n\u001b[0;32m      8\u001b[0m \u001b[38;5;28;01mfrom\u001b[39;00m \u001b[38;5;21;01mPIL\u001b[39;00m \u001b[38;5;28;01mimport\u001b[39;00m Image\n",
      "File \u001b[1;32m~\\anaconda3\\Lib\\site-packages\\hsemotion\\facial_emotions.py:9\u001b[0m\n\u001b[0;32m      7\u001b[0m \u001b[38;5;28;01mfrom\u001b[39;00m \u001b[38;5;21;01mPIL\u001b[39;00m \u001b[38;5;28;01mimport\u001b[39;00m Image\n\u001b[0;32m      8\u001b[0m \u001b[38;5;28;01mimport\u001b[39;00m \u001b[38;5;21;01mtorch\u001b[39;00m\n\u001b[1;32m----> 9\u001b[0m \u001b[38;5;28;01mfrom\u001b[39;00m \u001b[38;5;21;01mtorchvision\u001b[39;00m \u001b[38;5;28;01mimport\u001b[39;00m transforms\n\u001b[0;32m     10\u001b[0m \u001b[38;5;28;01mimport\u001b[39;00m \u001b[38;5;21;01mtimm\u001b[39;00m\n\u001b[0;32m     11\u001b[0m \u001b[38;5;28;01mimport\u001b[39;00m \u001b[38;5;21;01murllib\u001b[39;00m\n",
      "File \u001b[1;32m~\\anaconda3\\Lib\\site-packages\\torchvision\\__init__.py:6\u001b[0m\n\u001b[0;32m      3\u001b[0m \u001b[38;5;28;01mfrom\u001b[39;00m \u001b[38;5;21;01mmodulefinder\u001b[39;00m \u001b[38;5;28;01mimport\u001b[39;00m Module\n\u001b[0;32m      5\u001b[0m \u001b[38;5;28;01mimport\u001b[39;00m \u001b[38;5;21;01mtorch\u001b[39;00m\n\u001b[1;32m----> 6\u001b[0m \u001b[38;5;28;01mfrom\u001b[39;00m \u001b[38;5;21;01mtorchvision\u001b[39;00m \u001b[38;5;28;01mimport\u001b[39;00m _meta_registrations, datasets, io, models, ops, transforms, utils\n\u001b[0;32m      8\u001b[0m \u001b[38;5;28;01mfrom\u001b[39;00m \u001b[38;5;21;01m.\u001b[39;00m\u001b[38;5;21;01mextension\u001b[39;00m \u001b[38;5;28;01mimport\u001b[39;00m _HAS_OPS\n\u001b[0;32m     10\u001b[0m \u001b[38;5;28;01mtry\u001b[39;00m:\n",
      "File \u001b[1;32m~\\anaconda3\\Lib\\site-packages\\torchvision\\models\\__init__.py:2\u001b[0m\n\u001b[0;32m      1\u001b[0m \u001b[38;5;28;01mfrom\u001b[39;00m \u001b[38;5;21;01m.\u001b[39;00m\u001b[38;5;21;01malexnet\u001b[39;00m \u001b[38;5;28;01mimport\u001b[39;00m \u001b[38;5;241m*\u001b[39m\n\u001b[1;32m----> 2\u001b[0m \u001b[38;5;28;01mfrom\u001b[39;00m \u001b[38;5;21;01m.\u001b[39;00m\u001b[38;5;21;01mconvnext\u001b[39;00m \u001b[38;5;28;01mimport\u001b[39;00m \u001b[38;5;241m*\u001b[39m\n\u001b[0;32m      3\u001b[0m \u001b[38;5;28;01mfrom\u001b[39;00m \u001b[38;5;21;01m.\u001b[39;00m\u001b[38;5;21;01mdensenet\u001b[39;00m \u001b[38;5;28;01mimport\u001b[39;00m \u001b[38;5;241m*\u001b[39m\n\u001b[0;32m      4\u001b[0m \u001b[38;5;28;01mfrom\u001b[39;00m \u001b[38;5;21;01m.\u001b[39;00m\u001b[38;5;21;01mefficientnet\u001b[39;00m \u001b[38;5;28;01mimport\u001b[39;00m \u001b[38;5;241m*\u001b[39m\n",
      "File \u001b[1;32m~\\anaconda3\\Lib\\site-packages\\torchvision\\models\\convnext.py:8\u001b[0m\n\u001b[0;32m      5\u001b[0m \u001b[38;5;28;01mfrom\u001b[39;00m \u001b[38;5;21;01mtorch\u001b[39;00m \u001b[38;5;28;01mimport\u001b[39;00m nn, Tensor\n\u001b[0;32m      6\u001b[0m \u001b[38;5;28;01mfrom\u001b[39;00m \u001b[38;5;21;01mtorch\u001b[39;00m\u001b[38;5;21;01m.\u001b[39;00m\u001b[38;5;21;01mnn\u001b[39;00m \u001b[38;5;28;01mimport\u001b[39;00m functional \u001b[38;5;28;01mas\u001b[39;00m F\n\u001b[1;32m----> 8\u001b[0m \u001b[38;5;28;01mfrom\u001b[39;00m \u001b[38;5;21;01m.\u001b[39;00m\u001b[38;5;21;01m.\u001b[39;00m\u001b[38;5;21;01mops\u001b[39;00m\u001b[38;5;21;01m.\u001b[39;00m\u001b[38;5;21;01mmisc\u001b[39;00m \u001b[38;5;28;01mimport\u001b[39;00m Conv2dNormActivation, Permute\n\u001b[0;32m      9\u001b[0m \u001b[38;5;28;01mfrom\u001b[39;00m \u001b[38;5;21;01m.\u001b[39;00m\u001b[38;5;21;01m.\u001b[39;00m\u001b[38;5;21;01mops\u001b[39;00m\u001b[38;5;21;01m.\u001b[39;00m\u001b[38;5;21;01mstochastic_depth\u001b[39;00m \u001b[38;5;28;01mimport\u001b[39;00m StochasticDepth\n\u001b[0;32m     10\u001b[0m \u001b[38;5;28;01mfrom\u001b[39;00m \u001b[38;5;21;01m.\u001b[39;00m\u001b[38;5;21;01m.\u001b[39;00m\u001b[38;5;21;01mtransforms\u001b[39;00m\u001b[38;5;21;01m.\u001b[39;00m\u001b[38;5;21;01m_presets\u001b[39;00m \u001b[38;5;28;01mimport\u001b[39;00m ImageClassification\n",
      "File \u001b[1;32m~\\anaconda3\\Lib\\site-packages\\torchvision\\ops\\__init__.py:1\u001b[0m\n\u001b[1;32m----> 1\u001b[0m \u001b[38;5;28;01mfrom\u001b[39;00m \u001b[38;5;21;01m.\u001b[39;00m\u001b[38;5;21;01m_register_onnx_ops\u001b[39;00m \u001b[38;5;28;01mimport\u001b[39;00m _register_custom_op\n\u001b[0;32m      2\u001b[0m \u001b[38;5;28;01mfrom\u001b[39;00m \u001b[38;5;21;01m.\u001b[39;00m\u001b[38;5;21;01mboxes\u001b[39;00m \u001b[38;5;28;01mimport\u001b[39;00m (\n\u001b[0;32m      3\u001b[0m     batched_nms,\n\u001b[0;32m      4\u001b[0m     box_area,\n\u001b[1;32m   (...)\u001b[0m\n\u001b[0;32m     13\u001b[0m     remove_small_boxes,\n\u001b[0;32m     14\u001b[0m )\n\u001b[0;32m     15\u001b[0m \u001b[38;5;28;01mfrom\u001b[39;00m \u001b[38;5;21;01m.\u001b[39;00m\u001b[38;5;21;01mciou_loss\u001b[39;00m \u001b[38;5;28;01mimport\u001b[39;00m complete_box_iou_loss\n",
      "File \u001b[1;32m~\\anaconda3\\Lib\\site-packages\\torchvision\\ops\\_register_onnx_ops.py:5\u001b[0m\n\u001b[0;32m      2\u001b[0m \u001b[38;5;28;01mimport\u001b[39;00m \u001b[38;5;21;01mwarnings\u001b[39;00m\n\u001b[0;32m      4\u001b[0m \u001b[38;5;28;01mimport\u001b[39;00m \u001b[38;5;21;01mtorch\u001b[39;00m\n\u001b[1;32m----> 5\u001b[0m \u001b[38;5;28;01mfrom\u001b[39;00m \u001b[38;5;21;01mtorch\u001b[39;00m\u001b[38;5;21;01m.\u001b[39;00m\u001b[38;5;21;01monnx\u001b[39;00m \u001b[38;5;28;01mimport\u001b[39;00m symbolic_opset11 \u001b[38;5;28;01mas\u001b[39;00m opset11\n\u001b[0;32m      6\u001b[0m \u001b[38;5;28;01mfrom\u001b[39;00m \u001b[38;5;21;01mtorch\u001b[39;00m\u001b[38;5;21;01m.\u001b[39;00m\u001b[38;5;21;01monnx\u001b[39;00m\u001b[38;5;21;01m.\u001b[39;00m\u001b[38;5;21;01msymbolic_helper\u001b[39;00m \u001b[38;5;28;01mimport\u001b[39;00m parse_args\n\u001b[0;32m      8\u001b[0m _ONNX_OPSET_VERSION_11 \u001b[38;5;241m=\u001b[39m \u001b[38;5;241m11\u001b[39m\n",
      "File \u001b[1;32m~\\anaconda3\\Lib\\site-packages\\torch\\onnx\\__init__.py:46\u001b[0m\n\u001b[0;32m     33\u001b[0m \u001b[38;5;28;01mfrom\u001b[39;00m \u001b[38;5;21;01m.\u001b[39;00m\u001b[38;5;21;01merrors\u001b[39;00m \u001b[38;5;28;01mimport\u001b[39;00m CheckerError  \u001b[38;5;66;03m# Backwards compatibility\u001b[39;00m\n\u001b[0;32m     34\u001b[0m \u001b[38;5;28;01mfrom\u001b[39;00m \u001b[38;5;21;01m.\u001b[39;00m\u001b[38;5;21;01mutils\u001b[39;00m \u001b[38;5;28;01mimport\u001b[39;00m (\n\u001b[0;32m     35\u001b[0m     _optimize_graph,\n\u001b[0;32m     36\u001b[0m     _run_symbolic_function,\n\u001b[1;32m   (...)\u001b[0m\n\u001b[0;32m     43\u001b[0m     unregister_custom_op_symbolic,\n\u001b[0;32m     44\u001b[0m )\n\u001b[1;32m---> 46\u001b[0m \u001b[38;5;28;01mfrom\u001b[39;00m \u001b[38;5;21;01m.\u001b[39;00m\u001b[38;5;21;01m_internal\u001b[39;00m\u001b[38;5;21;01m.\u001b[39;00m\u001b[38;5;21;01mexporter\u001b[39;00m \u001b[38;5;28;01mimport\u001b[39;00m (  \u001b[38;5;66;03m# usort:skip. needs to be last to avoid circular import\u001b[39;00m\n\u001b[0;32m     47\u001b[0m     ExportOptions,\n\u001b[0;32m     48\u001b[0m     ExportOutput,\n\u001b[0;32m     49\u001b[0m     ExportOutputSerializer,\n\u001b[0;32m     50\u001b[0m     dynamo_export,\n\u001b[0;32m     51\u001b[0m     OnnxExporterError,\n\u001b[0;32m     52\u001b[0m     enable_fake_mode,\n\u001b[0;32m     53\u001b[0m     OnnxRegistry,\n\u001b[0;32m     54\u001b[0m     DiagnosticOptions,\n\u001b[0;32m     55\u001b[0m )\n\u001b[0;32m     57\u001b[0m \u001b[38;5;28;01mfrom\u001b[39;00m \u001b[38;5;21;01m.\u001b[39;00m\u001b[38;5;21;01m_internal\u001b[39;00m\u001b[38;5;21;01m.\u001b[39;00m\u001b[38;5;21;01monnxruntime\u001b[39;00m \u001b[38;5;28;01mimport\u001b[39;00m (\n\u001b[0;32m     58\u001b[0m     is_onnxrt_backend_supported,\n\u001b[0;32m     59\u001b[0m     OrtBackend \u001b[38;5;28;01mas\u001b[39;00m _OrtBackend,\n\u001b[0;32m     60\u001b[0m     OrtBackendOptions \u001b[38;5;28;01mas\u001b[39;00m _OrtBackendOptions,\n\u001b[0;32m     61\u001b[0m     OrtExecutionProvider \u001b[38;5;28;01mas\u001b[39;00m _OrtExecutionProvider,\n\u001b[0;32m     62\u001b[0m )\n\u001b[0;32m     64\u001b[0m __all__ \u001b[38;5;241m=\u001b[39m [\n\u001b[0;32m     65\u001b[0m     \u001b[38;5;66;03m# Modules\u001b[39;00m\n\u001b[0;32m     66\u001b[0m     \u001b[38;5;124m\"\u001b[39m\u001b[38;5;124msymbolic_helper\u001b[39m\u001b[38;5;124m\"\u001b[39m,\n\u001b[1;32m   (...)\u001b[0m\n\u001b[0;32m    110\u001b[0m     \u001b[38;5;124m\"\u001b[39m\u001b[38;5;124mis_onnxrt_backend_supported\u001b[39m\u001b[38;5;124m\"\u001b[39m,\n\u001b[0;32m    111\u001b[0m ]\n",
      "File \u001b[1;32m~\\anaconda3\\Lib\\site-packages\\torch\\onnx\\_internal\\exporter.py:42\u001b[0m\n\u001b[0;32m     39\u001b[0m \u001b[38;5;28;01mfrom\u001b[39;00m \u001b[38;5;21;01mtorch\u001b[39;00m\u001b[38;5;21;01m.\u001b[39;00m\u001b[38;5;21;01monnx\u001b[39;00m\u001b[38;5;21;01m.\u001b[39;00m\u001b[38;5;21;01m_internal\u001b[39;00m \u001b[38;5;28;01mimport\u001b[39;00m _beartype, io_adapter\n\u001b[0;32m     40\u001b[0m \u001b[38;5;28;01mfrom\u001b[39;00m \u001b[38;5;21;01mtorch\u001b[39;00m\u001b[38;5;21;01m.\u001b[39;00m\u001b[38;5;21;01monnx\u001b[39;00m\u001b[38;5;21;01m.\u001b[39;00m\u001b[38;5;21;01m_internal\u001b[39;00m\u001b[38;5;21;01m.\u001b[39;00m\u001b[38;5;21;01mdiagnostics\u001b[39;00m \u001b[38;5;28;01mimport\u001b[39;00m infra\n\u001b[1;32m---> 42\u001b[0m \u001b[38;5;28;01mfrom\u001b[39;00m \u001b[38;5;21;01mtorch\u001b[39;00m\u001b[38;5;21;01m.\u001b[39;00m\u001b[38;5;21;01monnx\u001b[39;00m\u001b[38;5;21;01m.\u001b[39;00m\u001b[38;5;21;01m_internal\u001b[39;00m\u001b[38;5;21;01m.\u001b[39;00m\u001b[38;5;21;01mfx\u001b[39;00m \u001b[38;5;28;01mimport\u001b[39;00m (\n\u001b[0;32m     43\u001b[0m     decomposition_table,\n\u001b[0;32m     44\u001b[0m     patcher \u001b[38;5;28;01mas\u001b[39;00m patcher,\n\u001b[0;32m     45\u001b[0m     registration,\n\u001b[0;32m     46\u001b[0m     serialization \u001b[38;5;28;01mas\u001b[39;00m fx_serialization,\n\u001b[0;32m     47\u001b[0m )\n\u001b[0;32m     49\u001b[0m \u001b[38;5;66;03m# We can only import onnx from this module in a type-checking context to ensure that\u001b[39;00m\n\u001b[0;32m     50\u001b[0m \u001b[38;5;66;03m# 'import torch.onnx' continues to work without having 'onnx' installed. We fully\u001b[39;00m\n\u001b[0;32m     51\u001b[0m \u001b[38;5;66;03m# 'import onnx' inside of dynamo_export (by way of _assert_dependencies).\u001b[39;00m\n\u001b[0;32m     52\u001b[0m \u001b[38;5;28;01mif\u001b[39;00m TYPE_CHECKING:\n",
      "File \u001b[1;32m~\\anaconda3\\Lib\\site-packages\\torch\\onnx\\_internal\\fx\\__init__.py:1\u001b[0m\n\u001b[1;32m----> 1\u001b[0m \u001b[38;5;28;01mfrom\u001b[39;00m \u001b[38;5;21;01m.\u001b[39;00m\u001b[38;5;21;01mpatcher\u001b[39;00m \u001b[38;5;28;01mimport\u001b[39;00m ONNXTorchPatcher\n\u001b[0;32m      2\u001b[0m \u001b[38;5;28;01mfrom\u001b[39;00m \u001b[38;5;21;01m.\u001b[39;00m\u001b[38;5;21;01mserialization\u001b[39;00m \u001b[38;5;28;01mimport\u001b[39;00m save_model_with_external_data\n\u001b[0;32m      5\u001b[0m __all__ \u001b[38;5;241m=\u001b[39m [\n\u001b[0;32m      6\u001b[0m     \u001b[38;5;124m\"\u001b[39m\u001b[38;5;124msave_model_with_external_data\u001b[39m\u001b[38;5;124m\"\u001b[39m,\n\u001b[0;32m      7\u001b[0m     \u001b[38;5;124m\"\u001b[39m\u001b[38;5;124mONNXTorchPatcher\u001b[39m\u001b[38;5;124m\"\u001b[39m,\n\u001b[0;32m      8\u001b[0m ]\n",
      "File \u001b[1;32m~\\anaconda3\\Lib\\site-packages\\torch\\onnx\\_internal\\fx\\patcher.py:11\u001b[0m\n\u001b[0;32m      8\u001b[0m \u001b[38;5;28;01mtry\u001b[39;00m:\n\u001b[0;32m      9\u001b[0m     \u001b[38;5;66;03m# safetensors is not an exporter requirement, but needed for some huggingface models\u001b[39;00m\n\u001b[0;32m     10\u001b[0m     \u001b[38;5;28;01mimport\u001b[39;00m \u001b[38;5;21;01msafetensors\u001b[39;00m  \u001b[38;5;66;03m# type: ignore[import]  # noqa: F401\u001b[39;00m\n\u001b[1;32m---> 11\u001b[0m     \u001b[38;5;28;01mimport\u001b[39;00m \u001b[38;5;21;01mtransformers\u001b[39;00m  \u001b[38;5;66;03m# type: ignore[import]\u001b[39;00m\n\u001b[0;32m     12\u001b[0m     \u001b[38;5;28;01mfrom\u001b[39;00m \u001b[38;5;21;01msafetensors\u001b[39;00m \u001b[38;5;28;01mimport\u001b[39;00m torch \u001b[38;5;28;01mas\u001b[39;00m safetensors_torch  \u001b[38;5;66;03m# noqa: F401\u001b[39;00m\n\u001b[0;32m     14\u001b[0m     has_safetensors_and_transformers \u001b[38;5;241m=\u001b[39m \u001b[38;5;28;01mTrue\u001b[39;00m\n",
      "File \u001b[1;32m~\\anaconda3\\Lib\\site-packages\\transformers\\__init__.py:25\u001b[0m\n\u001b[0;32m     19\u001b[0m \u001b[38;5;66;03m# Files and general utilities\u001b[39;00m\n\u001b[0;32m     20\u001b[0m \u001b[38;5;28;01mfrom\u001b[39;00m \u001b[38;5;21;01m.\u001b[39;00m\u001b[38;5;21;01mfile_utils\u001b[39;00m \u001b[38;5;28;01mimport\u001b[39;00m (TRANSFORMERS_CACHE, PYTORCH_TRANSFORMERS_CACHE, PYTORCH_PRETRAINED_BERT_CACHE,\n\u001b[0;32m     21\u001b[0m                          cached_path, add_start_docstrings, add_end_docstrings,\n\u001b[0;32m     22\u001b[0m                          WEIGHTS_NAME, TF2_WEIGHTS_NAME, TF_WEIGHTS_NAME, CONFIG_NAME,\n\u001b[0;32m     23\u001b[0m                          is_tf_available, is_torch_available)\n\u001b[1;32m---> 25\u001b[0m \u001b[38;5;28;01mfrom\u001b[39;00m \u001b[38;5;21;01m.\u001b[39;00m\u001b[38;5;21;01mdata\u001b[39;00m \u001b[38;5;28;01mimport\u001b[39;00m (is_sklearn_available,\n\u001b[0;32m     26\u001b[0m                    InputExample, InputFeatures, DataProcessor,\n\u001b[0;32m     27\u001b[0m                    glue_output_modes, glue_convert_examples_to_features,\n\u001b[0;32m     28\u001b[0m                    glue_processors, glue_tasks_num_labels)\n\u001b[0;32m     30\u001b[0m \u001b[38;5;28;01mif\u001b[39;00m is_sklearn_available():\n\u001b[0;32m     31\u001b[0m     \u001b[38;5;28;01mfrom\u001b[39;00m \u001b[38;5;21;01m.\u001b[39;00m\u001b[38;5;21;01mdata\u001b[39;00m \u001b[38;5;28;01mimport\u001b[39;00m glue_compute_metrics\n",
      "File \u001b[1;32m~\\anaconda3\\Lib\\site-packages\\transformers\\data\\__init__.py:4\u001b[0m\n\u001b[0;32m      1\u001b[0m \u001b[38;5;28;01mfrom\u001b[39;00m \u001b[38;5;21;01m.\u001b[39;00m\u001b[38;5;21;01mprocessors\u001b[39;00m \u001b[38;5;28;01mimport\u001b[39;00m InputExample, InputFeatures, DataProcessor\n\u001b[0;32m      2\u001b[0m \u001b[38;5;28;01mfrom\u001b[39;00m \u001b[38;5;21;01m.\u001b[39;00m\u001b[38;5;21;01mprocessors\u001b[39;00m \u001b[38;5;28;01mimport\u001b[39;00m glue_output_modes, glue_processors, glue_tasks_num_labels, glue_convert_examples_to_features\n\u001b[1;32m----> 4\u001b[0m \u001b[38;5;28;01mfrom\u001b[39;00m \u001b[38;5;21;01m.\u001b[39;00m\u001b[38;5;21;01mmetrics\u001b[39;00m \u001b[38;5;28;01mimport\u001b[39;00m is_sklearn_available\n\u001b[0;32m      5\u001b[0m \u001b[38;5;28;01mif\u001b[39;00m is_sklearn_available():\n\u001b[0;32m      6\u001b[0m     \u001b[38;5;28;01mfrom\u001b[39;00m \u001b[38;5;21;01m.\u001b[39;00m\u001b[38;5;21;01mmetrics\u001b[39;00m \u001b[38;5;28;01mimport\u001b[39;00m glue_compute_metrics\n",
      "File \u001b[1;32m~\\anaconda3\\Lib\\site-packages\\transformers\\data\\metrics\\__init__.py:25\u001b[0m\n\u001b[0;32m     23\u001b[0m \u001b[38;5;28;01mtry\u001b[39;00m:\n\u001b[0;32m     24\u001b[0m     \u001b[38;5;28;01mfrom\u001b[39;00m \u001b[38;5;21;01mscipy\u001b[39;00m\u001b[38;5;21;01m.\u001b[39;00m\u001b[38;5;21;01mstats\u001b[39;00m \u001b[38;5;28;01mimport\u001b[39;00m pearsonr, spearmanr\n\u001b[1;32m---> 25\u001b[0m     \u001b[38;5;28;01mfrom\u001b[39;00m \u001b[38;5;21;01msklearn\u001b[39;00m\u001b[38;5;21;01m.\u001b[39;00m\u001b[38;5;21;01mmetrics\u001b[39;00m \u001b[38;5;28;01mimport\u001b[39;00m matthews_corrcoef, f1_score\n\u001b[0;32m     26\u001b[0m     _has_sklearn \u001b[38;5;241m=\u001b[39m \u001b[38;5;28;01mTrue\u001b[39;00m\n\u001b[0;32m     27\u001b[0m \u001b[38;5;28;01mexcept\u001b[39;00m (\u001b[38;5;167;01mAttributeError\u001b[39;00m, \u001b[38;5;167;01mImportError\u001b[39;00m) \u001b[38;5;28;01mas\u001b[39;00m e:\n",
      "File \u001b[1;32m~\\anaconda3\\Lib\\site-packages\\sklearn\\metrics\\__init__.py:7\u001b[0m\n\u001b[0;32m      1\u001b[0m \u001b[38;5;124;03m\"\"\"\u001b[39;00m\n\u001b[0;32m      2\u001b[0m \u001b[38;5;124;03mThe :mod:`sklearn.metrics` module includes score functions, performance metrics\u001b[39;00m\n\u001b[0;32m      3\u001b[0m \u001b[38;5;124;03mand pairwise metrics and distance computations.\u001b[39;00m\n\u001b[0;32m      4\u001b[0m \u001b[38;5;124;03m\"\"\"\u001b[39;00m\n\u001b[1;32m----> 7\u001b[0m \u001b[38;5;28;01mfrom\u001b[39;00m \u001b[38;5;21;01m.\u001b[39;00m \u001b[38;5;28;01mimport\u001b[39;00m cluster\n\u001b[0;32m      8\u001b[0m \u001b[38;5;28;01mfrom\u001b[39;00m \u001b[38;5;21;01m.\u001b[39;00m\u001b[38;5;21;01m_classification\u001b[39;00m \u001b[38;5;28;01mimport\u001b[39;00m (\n\u001b[0;32m      9\u001b[0m     accuracy_score,\n\u001b[0;32m     10\u001b[0m     balanced_accuracy_score,\n\u001b[1;32m   (...)\u001b[0m\n\u001b[0;32m     27\u001b[0m     zero_one_loss,\n\u001b[0;32m     28\u001b[0m )\n\u001b[0;32m     29\u001b[0m \u001b[38;5;28;01mfrom\u001b[39;00m \u001b[38;5;21;01m.\u001b[39;00m\u001b[38;5;21;01m_dist_metrics\u001b[39;00m \u001b[38;5;28;01mimport\u001b[39;00m DistanceMetric\n",
      "File \u001b[1;32m~\\anaconda3\\Lib\\site-packages\\sklearn\\metrics\\cluster\\__init__.py:8\u001b[0m\n\u001b[0;32m      1\u001b[0m \u001b[38;5;124;03m\"\"\"\u001b[39;00m\n\u001b[0;32m      2\u001b[0m \u001b[38;5;124;03mThe :mod:`sklearn.metrics.cluster` submodule contains evaluation metrics for\u001b[39;00m\n\u001b[0;32m      3\u001b[0m \u001b[38;5;124;03mcluster analysis results. There are two forms of evaluation:\u001b[39;00m\n\u001b[1;32m   (...)\u001b[0m\n\u001b[0;32m      6\u001b[0m \u001b[38;5;124;03m- unsupervised, which does not and measures the 'quality' of the model itself.\u001b[39;00m\n\u001b[0;32m      7\u001b[0m \u001b[38;5;124;03m\"\"\"\u001b[39;00m\n\u001b[1;32m----> 8\u001b[0m \u001b[38;5;28;01mfrom\u001b[39;00m \u001b[38;5;21;01m.\u001b[39;00m\u001b[38;5;21;01m_bicluster\u001b[39;00m \u001b[38;5;28;01mimport\u001b[39;00m consensus_score\n\u001b[0;32m      9\u001b[0m \u001b[38;5;28;01mfrom\u001b[39;00m \u001b[38;5;21;01m.\u001b[39;00m\u001b[38;5;21;01m_supervised\u001b[39;00m \u001b[38;5;28;01mimport\u001b[39;00m (\n\u001b[0;32m     10\u001b[0m     adjusted_mutual_info_score,\n\u001b[0;32m     11\u001b[0m     adjusted_rand_score,\n\u001b[1;32m   (...)\u001b[0m\n\u001b[0;32m     23\u001b[0m     v_measure_score,\n\u001b[0;32m     24\u001b[0m )\n\u001b[0;32m     25\u001b[0m \u001b[38;5;28;01mfrom\u001b[39;00m \u001b[38;5;21;01m.\u001b[39;00m\u001b[38;5;21;01m_unsupervised\u001b[39;00m \u001b[38;5;28;01mimport\u001b[39;00m (\n\u001b[0;32m     26\u001b[0m     calinski_harabasz_score,\n\u001b[0;32m     27\u001b[0m     davies_bouldin_score,\n\u001b[0;32m     28\u001b[0m     silhouette_samples,\n\u001b[0;32m     29\u001b[0m     silhouette_score,\n\u001b[0;32m     30\u001b[0m )\n",
      "File \u001b[1;32m~\\anaconda3\\Lib\\site-packages\\sklearn\\metrics\\cluster\\_bicluster.py:49\u001b[0m\n\u001b[0;32m     40\u001b[0m     result \u001b[38;5;241m=\u001b[39m np\u001b[38;5;241m.\u001b[39marray(\n\u001b[0;32m     41\u001b[0m         [\n\u001b[0;32m     42\u001b[0m             [similarity(a_rows[i], a_cols[i], b_rows[j], b_cols[j]) \u001b[38;5;28;01mfor\u001b[39;00m j \u001b[38;5;129;01min\u001b[39;00m \u001b[38;5;28mrange\u001b[39m(n_b)]\n\u001b[0;32m     43\u001b[0m             \u001b[38;5;28;01mfor\u001b[39;00m i \u001b[38;5;129;01min\u001b[39;00m \u001b[38;5;28mrange\u001b[39m(n_a)\n\u001b[0;32m     44\u001b[0m         ]\n\u001b[0;32m     45\u001b[0m     )\n\u001b[0;32m     46\u001b[0m     \u001b[38;5;28;01mreturn\u001b[39;00m result\n\u001b[1;32m---> 49\u001b[0m \u001b[38;5;129m@validate_params\u001b[39m(\n\u001b[0;32m     50\u001b[0m     {\n\u001b[0;32m     51\u001b[0m         \u001b[38;5;124m\"\u001b[39m\u001b[38;5;124ma\u001b[39m\u001b[38;5;124m\"\u001b[39m: [\u001b[38;5;28mtuple\u001b[39m],\n\u001b[0;32m     52\u001b[0m         \u001b[38;5;124m\"\u001b[39m\u001b[38;5;124mb\u001b[39m\u001b[38;5;124m\"\u001b[39m: [\u001b[38;5;28mtuple\u001b[39m],\n\u001b[0;32m     53\u001b[0m         \u001b[38;5;124m\"\u001b[39m\u001b[38;5;124msimilarity\u001b[39m\u001b[38;5;124m\"\u001b[39m: [\u001b[38;5;28mcallable\u001b[39m, StrOptions({\u001b[38;5;124m\"\u001b[39m\u001b[38;5;124mjaccard\u001b[39m\u001b[38;5;124m\"\u001b[39m})],\n\u001b[0;32m     54\u001b[0m     },\n\u001b[0;32m     55\u001b[0m     prefer_skip_nested_validation\u001b[38;5;241m=\u001b[39m\u001b[38;5;28;01mTrue\u001b[39;00m,\n\u001b[0;32m     56\u001b[0m )\n\u001b[0;32m     57\u001b[0m \u001b[38;5;28;01mdef\u001b[39;00m \u001b[38;5;21mconsensus_score\u001b[39m(a, b, \u001b[38;5;241m*\u001b[39m, similarity\u001b[38;5;241m=\u001b[39m\u001b[38;5;124m\"\u001b[39m\u001b[38;5;124mjaccard\u001b[39m\u001b[38;5;124m\"\u001b[39m):\n\u001b[0;32m     58\u001b[0m \u001b[38;5;250m    \u001b[39m\u001b[38;5;124;03m\"\"\"The similarity of two sets of biclusters.\u001b[39;00m\n\u001b[0;32m     59\u001b[0m \n\u001b[0;32m     60\u001b[0m \u001b[38;5;124;03m    Similarity between individual biclusters is computed. Then the\u001b[39;00m\n\u001b[1;32m   (...)\u001b[0m\n\u001b[0;32m     99\u001b[0m \u001b[38;5;124;03m    1.0\u001b[39;00m\n\u001b[0;32m    100\u001b[0m \u001b[38;5;124;03m    \"\"\"\u001b[39;00m\n\u001b[0;32m    101\u001b[0m     \u001b[38;5;28;01mif\u001b[39;00m similarity \u001b[38;5;241m==\u001b[39m \u001b[38;5;124m\"\u001b[39m\u001b[38;5;124mjaccard\u001b[39m\u001b[38;5;124m\"\u001b[39m:\n",
      "\u001b[1;31mTypeError\u001b[0m: validate_params() got an unexpected keyword argument 'prefer_skip_nested_validation'"
     ]
    }
   ],
   "source": [
    "import pandas as pd\n",
    "import os\n",
    "import cv2\n",
    "import mediapipe as mp\n",
    "import numpy as np\n",
    "from hsemotion.facial_emotions import HSEmotionRecognizer\n",
    "import torch\n",
    "from PIL import Image\n",
    "from mediapipe.tasks import python\n",
    "from mediapipe.tasks.python import vision\n",
    "import seaborn as sns\n",
    "import pandas as pd\n",
    "import os\n",
    "import seaborn as sns\n",
    "import matplotlib.pyplot as plt\n",
    "from datetime import datetime, date\n",
    "import numpy as np\n",
    "from sklearn import preprocessing\n",
    "from sklearn.model_selection import train_test_split\n",
    "import numpy as np\n",
    "import pandas as pd\n",
    "from datetime import datetime, date\n",
    "from sklearn.model_selection import train_test_split\n",
    "import seaborn as sns\n",
    "import matplotlib.pyplot as plt\n",
    "from datetime import datetime, date\n",
    "from sklearn.neighbors import KNeighborsRegressor\n",
    "from sklearn.model_selection import GridSearchCV\n",
    "from sklearn.model_selection import cross_val_score, cross_val_predict\n",
    "from sklearn.ensemble import GradientBoostingRegressor\n",
    "from sklearn.linear_model import SGDRegressor, LinearRegression, Ridge\n",
    "from sklearn import tree\n",
    "from sklearn.metrics import mean_squared_error as mse\n",
    "from sklearn import preprocessing\n",
    "from tqdm.auto import tqdm\n",
    "from sklearn.metrics import mean_absolute_error as mae\n",
    "from sklearn.preprocessing import OneHotEncoder\n",
    "from sklearn.metrics import r2_score\n",
    "from copy import deepcopy\n",
    "from sklearn.inspection import permutation_importance\n",
    "from sklearn import linear_model\n",
    "import warnings\n",
    "\n",
    "import matplotlib.pyplot as plt\n",
    "import pandas as pd\n",
    "from adjdatatools.preprocessing import AdjustedScaler\n",
    "from sklearn.ensemble import ExtraTreesRegressor\n",
    "from sklearn.metrics import r2_score as r2\n",
    "from joblib import dump\n",
    "from joblib import load"
   ]
  },
  {
   "cell_type": "code",
   "execution_count": 6,
   "metadata": {
    "colab": {
     "base_uri": "https://localhost:8080/"
    },
    "id": "Ko7c2lfvAfdy",
    "outputId": "1be3fdfd-54b7-4d79-eed3-ec2d7c3907be"
   },
   "outputs": [
    {
     "name": "stdout",
     "output_type": "stream",
     "text": [
      "C:\\Users\\Operator\\.hsemotion\\enet_b0_8_best_afew.pt Compose(\n",
      "    Resize(size=(224, 224), interpolation=bilinear, max_size=None, antialias=warn)\n",
      "    ToTensor()\n",
      "    Normalize(mean=[0.485, 0.456, 0.406], std=[0.229, 0.224, 0.225])\n",
      ")\n"
     ]
    }
   ],
   "source": [
    "face_mesh = mp.solutions.face_mesh.FaceMesh()\n",
    "use_cuda = torch.cuda.is_available()\n",
    "device = 'cuda' if use_cuda else 'cpu'\n",
    "model_name='enet_b0_8_best_afew'\n",
    "fer=HSEmotionRecognizer(model_name=model_name,device=device)"
   ]
  },
  {
   "cell_type": "code",
   "execution_count": 7,
   "metadata": {
    "id": "4ygacTs_Ar2z"
   },
   "outputs": [],
   "source": [
    "face_detection = mp.solutions.face_detection.FaceDetection(min_detection_confidence=0.3)\n",
    "def get_main_face(frame):\n",
    "  results = face_detection.process(frame)\n",
    "  main_face = None\n",
    "  max_score = 0\n",
    "  if results.detections is not None:\n",
    "    for detection in results.detections:\n",
    "        if detection.score[0] > max_score:\n",
    "            main_face = detection\n",
    "            max_score = detection.score[0]\n",
    "    if main_face is not None:\n",
    "      bbox = main_face.location_data.relative_bounding_box\n",
    "      image_height, image_width, _ = frame.shape\n",
    "      x, y, w, h = int(bbox.xmin * image_width), int(bbox.ymin * image_height), \\\n",
    "                  int(bbox.width * image_width), int(bbox.height * image_height)\n",
    "      main_face = frame[y:y+h, x:x+w]\n",
    "      #cv2.rectangle(frame, (x, y), (x+w, y+h), (0, 255, 0), 2)\n",
    "  return main_face"
   ]
  },
  {
   "cell_type": "code",
   "execution_count": 8,
   "metadata": {
    "id": "lBfd5BXtAZmx"
   },
   "outputs": [],
   "source": [
    "def get_all_frames(video_path):\n",
    "    cap = cv2.VideoCapture(video_path)\n",
    "    frames = []\n",
    "    while True:\n",
    "        ret, frame = cap.read()\n",
    "        if not ret:\n",
    "            break\n",
    "        frame = cv2.cvtColor(frame, cv2.COLOR_BGR2RGB)\n",
    "        frames.append(frame)\n",
    "    cap.release()\n",
    "    return frames"
   ]
  },
  {
   "cell_type": "code",
   "execution_count": 9,
   "metadata": {
    "id": "DnThJsHaAw8c"
   },
   "outputs": [],
   "source": [
    "def process_frame_every_n(frames, n):\n",
    "    imgs = frames[::n]\n",
    "    faces = list(map(get_main_face, imgs))\n",
    "    emotions,scores = [], []\n",
    "    for face in faces:\n",
    "      if face is not None:\n",
    "        try:\n",
    "          emotion,score=fer.predict_emotions(face,logits=False)\n",
    "          emotions.append(emotion)\n",
    "          scores.append(score)\n",
    "        except Exception:\n",
    "          continue\n",
    "    return emotions, scores"
   ]
  },
  {
   "cell_type": "code",
   "execution_count": 10,
   "metadata": {
    "id": "O6oaZ5nQAzrK"
   },
   "outputs": [],
   "source": [
    "# @title Расчет процентного соотношения пребывания каждой эмоции в списке эмоций\n",
    "def calculate_emotion_percentage(emotion_list):\n",
    "    total_frames = len(emotion_list)\n",
    "    emotion_percentage = {}\n",
    "    for emotion in emotion_list:\n",
    "        if emotion in emotion_percentage.keys():\n",
    "            emotion_percentage[emotion] += 1\n",
    "        else:\n",
    "            emotion_percentage[emotion] = 1\n",
    "    for emotion in emotion_percentage.keys():\n",
    "        emotion_percentage[emotion] = (emotion_percentage[emotion] / total_frames) * 100\n",
    "\n",
    "    return emotion_percentage"
   ]
  },
  {
   "cell_type": "code",
   "execution_count": 11,
   "metadata": {
    "id": "z-io5sVIA1vm"
   },
   "outputs": [],
   "source": [
    "# @title Подсчет частоты изменения эмоций\n",
    "def calculate_emotion_change_frequency(emotion_list):\n",
    "    total_frames = len(emotion_list)\n",
    "    emotion_changes = 0\n",
    "    for i in range(1, total_frames):\n",
    "        if emotion_list[i] != emotion_list[i-1]:\n",
    "            emotion_changes += 1\n",
    "    emotion_change_frequency = emotion_changes / total_frames\n",
    "    return emotion_change_frequency"
   ]
  },
  {
   "cell_type": "code",
   "execution_count": 12,
   "metadata": {
    "id": "iaTfiPf0A39-"
   },
   "outputs": [],
   "source": [
    "def get_subarray(array, subset, ind):\n",
    "  last_ind = min(ind+subset, len(array))\n",
    "  return array[ind:last_ind]"
   ]
  },
  {
   "cell_type": "code",
   "execution_count": 13,
   "metadata": {
    "id": "_OZak8cYBHCx"
   },
   "outputs": [],
   "source": [
    "def count_values(video_path):\n",
    "  cap = cv2.VideoCapture(video_path)\n",
    "  frames = get_all_frames(video_path)\n",
    "  fps = cap.get(cv2.CAP_PROP_FPS)\n",
    "  total_frames = len(frames)\n",
    "  video_duration_sec = total_frames / fps\n",
    "  frames_per_second = int(total_frames // video_duration_sec)\n",
    "  emotion_results = []\n",
    "  for i in range(0, total_frames, frames_per_second):\n",
    "    second_frames = get_subarray(frames, frames_per_second, i)\n",
    "    emotions, scores = process_frame_every_n(second_frames, 1)\n",
    "    percentages = calculate_emotion_percentage(emotions)\n",
    "    try:\n",
    "      max_emotion = max(percentages, key=percentages.get)\n",
    "      emotion_results.append(max_emotion)\n",
    "    except Exception as ex:\n",
    "      print(ex.args[0])\n",
    "      emotion_results.append('emotion not determined')\n",
    "  return emotion_results"
   ]
  },
  {
   "cell_type": "code",
   "execution_count": 14,
   "metadata": {
    "id": "F_oKz9uHCgVN"
   },
   "outputs": [],
   "source": [
    "dictionary = {'Sadness':[], 'Disgust':[], 'Fear':[], 'Neutral':[], 'Happiness':[], 'Suprise':[], 'Anger':[], 'Contempt':[]}"
   ]
  },
  {
   "cell_type": "code",
   "execution_count": 15,
   "metadata": {},
   "outputs": [],
   "source": [
    "from tqdm import tqdm"
   ]
  },
  {
   "cell_type": "code",
   "execution_count": 17,
   "metadata": {
    "id": "9NX-mxiO-Aed"
   },
   "outputs": [
    {
     "name": "stderr",
     "output_type": "stream",
     "text": [
      "100%|████████████████████████████████████████████████████████████████████████████████| 100/100 [55:20<00:00, 33.20s/it]\n",
      "100%|████████████████████████████████████████████████████████████████████████████████| 100/100 [54:09<00:00, 32.49s/it]\n",
      " 36%|███████████████████████████▋                                                 | 36/100 [1:08:35<1:24:39, 79.37s/it]"
     ]
    },
    {
     "name": "stdout",
     "output_type": "stream",
     "text": [
      "max() arg is an empty sequence\n"
     ]
    },
    {
     "name": "stderr",
     "output_type": "stream",
     "text": [
      " 50%|███████████████████████████████████████▌                                       | 50/100 [1:20:27<41:34, 49.88s/it]"
     ]
    },
    {
     "name": "stdout",
     "output_type": "stream",
     "text": [
      "max() arg is an empty sequence\n"
     ]
    },
    {
     "name": "stderr",
     "output_type": "stream",
     "text": [
      "\r",
      " 51%|████████████████████████████████████████▎                                      | 51/100 [1:20:59<36:16, 44.42s/it]"
     ]
    },
    {
     "name": "stdout",
     "output_type": "stream",
     "text": [
      "max() arg is an empty sequence\n"
     ]
    },
    {
     "name": "stderr",
     "output_type": "stream",
     "text": [
      "100%|██████████████████████████████████████████████████████████████████████████████| 100/100 [2:07:37<00:00, 76.58s/it]\n"
     ]
    }
   ],
   "source": [
    "dir_paths = ['videos/', 'normal/', 'emotional/']\n",
    "paths = []\n",
    "values = []\n",
    "freq = []\n",
    "for dir_path in dir_paths:\n",
    "    all_files = os.listdir(dir_path)\n",
    "    for file in tqdm(all_files):\n",
    "        path = os.path.join(dir_path, file)\n",
    "        value = file.split(\"(\", 1)[1].split(\")\", 1)[0]\n",
    "        value = float(value.replace(\",\", \".\"))\n",
    "        res = count_values(path)\n",
    "        percentage = calculate_emotion_percentage(res)\n",
    "        for key in dictionary.keys():\n",
    "          if key in percentage.keys():\n",
    "            dictionary[key].append(percentage[key])\n",
    "          else:\n",
    "            dictionary[key].append(0)\n",
    "        frequency = calculate_emotion_change_frequency(res)\n",
    "        freq.append(frequency)\n",
    "        values.append(value)\n",
    "        paths.append(path)\n",
    "    res = pd.DataFrame()\n",
    "    res['path'] = paths\n",
    "    res['values'] = values\n",
    "    res['freq'] = freq\n",
    "    for key in dictionary.keys():\n",
    "        res[key] = dictionary[key]\n",
    "    res.to_csv(f'{dir_path}.csv', index=False, encoding='utf-8')\n",
    "    "
   ]
  },
  {
   "cell_type": "code",
   "execution_count": 18,
   "metadata": {},
   "outputs": [],
   "source": [
    "df = pd.read_csv('emotional/.csv')"
   ]
  },
  {
   "cell_type": "code",
   "execution_count": 19,
   "metadata": {},
   "outputs": [
    {
     "data": {
      "text/html": [
       "<div>\n",
       "<style scoped>\n",
       "    .dataframe tbody tr th:only-of-type {\n",
       "        vertical-align: middle;\n",
       "    }\n",
       "\n",
       "    .dataframe tbody tr th {\n",
       "        vertical-align: top;\n",
       "    }\n",
       "\n",
       "    .dataframe thead th {\n",
       "        text-align: right;\n",
       "    }\n",
       "</style>\n",
       "<table border=\"1\" class=\"dataframe\">\n",
       "  <thead>\n",
       "    <tr style=\"text-align: right;\">\n",
       "      <th></th>\n",
       "      <th>path</th>\n",
       "      <th>values</th>\n",
       "      <th>freq</th>\n",
       "      <th>Sadness</th>\n",
       "      <th>Disgust</th>\n",
       "      <th>Fear</th>\n",
       "      <th>Neutral</th>\n",
       "      <th>Happiness</th>\n",
       "      <th>Suprise</th>\n",
       "      <th>Anger</th>\n",
       "      <th>Contempt</th>\n",
       "    </tr>\n",
       "  </thead>\n",
       "  <tbody>\n",
       "    <tr>\n",
       "      <th>0</th>\n",
       "      <td>videos/1 (0,2).mp4</td>\n",
       "      <td>0.20</td>\n",
       "      <td>0.363636</td>\n",
       "      <td>9.090909</td>\n",
       "      <td>0.000000</td>\n",
       "      <td>0.000000</td>\n",
       "      <td>9.090909</td>\n",
       "      <td>0.0</td>\n",
       "      <td>0</td>\n",
       "      <td>0.000000</td>\n",
       "      <td>81.818182</td>\n",
       "    </tr>\n",
       "    <tr>\n",
       "      <th>1</th>\n",
       "      <td>videos/10 (0,25).mp4</td>\n",
       "      <td>0.25</td>\n",
       "      <td>0.090909</td>\n",
       "      <td>18.181818</td>\n",
       "      <td>0.000000</td>\n",
       "      <td>0.000000</td>\n",
       "      <td>0.000000</td>\n",
       "      <td>0.0</td>\n",
       "      <td>0</td>\n",
       "      <td>81.818182</td>\n",
       "      <td>0.000000</td>\n",
       "    </tr>\n",
       "    <tr>\n",
       "      <th>2</th>\n",
       "      <td>videos/100 (0,1).mp4</td>\n",
       "      <td>0.10</td>\n",
       "      <td>0.000000</td>\n",
       "      <td>0.000000</td>\n",
       "      <td>0.000000</td>\n",
       "      <td>0.000000</td>\n",
       "      <td>100.000000</td>\n",
       "      <td>0.0</td>\n",
       "      <td>0</td>\n",
       "      <td>0.000000</td>\n",
       "      <td>0.000000</td>\n",
       "    </tr>\n",
       "    <tr>\n",
       "      <th>3</th>\n",
       "      <td>videos/11 (0,25).mp4</td>\n",
       "      <td>0.25</td>\n",
       "      <td>0.000000</td>\n",
       "      <td>0.000000</td>\n",
       "      <td>0.000000</td>\n",
       "      <td>0.000000</td>\n",
       "      <td>0.000000</td>\n",
       "      <td>0.0</td>\n",
       "      <td>0</td>\n",
       "      <td>100.000000</td>\n",
       "      <td>0.000000</td>\n",
       "    </tr>\n",
       "    <tr>\n",
       "      <th>4</th>\n",
       "      <td>videos/12 (0,25).mp4</td>\n",
       "      <td>0.25</td>\n",
       "      <td>0.181818</td>\n",
       "      <td>18.181818</td>\n",
       "      <td>0.000000</td>\n",
       "      <td>0.000000</td>\n",
       "      <td>0.000000</td>\n",
       "      <td>0.0</td>\n",
       "      <td>0</td>\n",
       "      <td>81.818182</td>\n",
       "      <td>0.000000</td>\n",
       "    </tr>\n",
       "    <tr>\n",
       "      <th>...</th>\n",
       "      <td>...</td>\n",
       "      <td>...</td>\n",
       "      <td>...</td>\n",
       "      <td>...</td>\n",
       "      <td>...</td>\n",
       "      <td>...</td>\n",
       "      <td>...</td>\n",
       "      <td>...</td>\n",
       "      <td>...</td>\n",
       "      <td>...</td>\n",
       "      <td>...</td>\n",
       "    </tr>\n",
       "    <tr>\n",
       "      <th>295</th>\n",
       "      <td>emotional/95 (0,8).mp4</td>\n",
       "      <td>0.80</td>\n",
       "      <td>0.272727</td>\n",
       "      <td>0.000000</td>\n",
       "      <td>9.090909</td>\n",
       "      <td>0.000000</td>\n",
       "      <td>0.000000</td>\n",
       "      <td>0.0</td>\n",
       "      <td>0</td>\n",
       "      <td>81.818182</td>\n",
       "      <td>0.000000</td>\n",
       "    </tr>\n",
       "    <tr>\n",
       "      <th>296</th>\n",
       "      <td>emotional/96 (0,8).mp4</td>\n",
       "      <td>0.80</td>\n",
       "      <td>0.181818</td>\n",
       "      <td>0.000000</td>\n",
       "      <td>0.000000</td>\n",
       "      <td>0.000000</td>\n",
       "      <td>0.000000</td>\n",
       "      <td>0.0</td>\n",
       "      <td>0</td>\n",
       "      <td>90.909091</td>\n",
       "      <td>0.000000</td>\n",
       "    </tr>\n",
       "    <tr>\n",
       "      <th>297</th>\n",
       "      <td>emotional/97 (0,85).mp4</td>\n",
       "      <td>0.85</td>\n",
       "      <td>0.272727</td>\n",
       "      <td>0.000000</td>\n",
       "      <td>0.000000</td>\n",
       "      <td>9.090909</td>\n",
       "      <td>0.000000</td>\n",
       "      <td>0.0</td>\n",
       "      <td>0</td>\n",
       "      <td>81.818182</td>\n",
       "      <td>0.000000</td>\n",
       "    </tr>\n",
       "    <tr>\n",
       "      <th>298</th>\n",
       "      <td>emotional/98 (0,75).mp4</td>\n",
       "      <td>0.75</td>\n",
       "      <td>0.000000</td>\n",
       "      <td>0.000000</td>\n",
       "      <td>0.000000</td>\n",
       "      <td>0.000000</td>\n",
       "      <td>0.000000</td>\n",
       "      <td>0.0</td>\n",
       "      <td>0</td>\n",
       "      <td>100.000000</td>\n",
       "      <td>0.000000</td>\n",
       "    </tr>\n",
       "    <tr>\n",
       "      <th>299</th>\n",
       "      <td>emotional/99 (0,85).mp4</td>\n",
       "      <td>0.85</td>\n",
       "      <td>0.272727</td>\n",
       "      <td>0.000000</td>\n",
       "      <td>9.090909</td>\n",
       "      <td>18.181818</td>\n",
       "      <td>0.000000</td>\n",
       "      <td>0.0</td>\n",
       "      <td>0</td>\n",
       "      <td>72.727273</td>\n",
       "      <td>0.000000</td>\n",
       "    </tr>\n",
       "  </tbody>\n",
       "</table>\n",
       "<p>300 rows × 11 columns</p>\n",
       "</div>"
      ],
      "text/plain": [
       "                        path  values      freq    Sadness   Disgust  \\\n",
       "0         videos/1 (0,2).mp4    0.20  0.363636   9.090909  0.000000   \n",
       "1       videos/10 (0,25).mp4    0.25  0.090909  18.181818  0.000000   \n",
       "2       videos/100 (0,1).mp4    0.10  0.000000   0.000000  0.000000   \n",
       "3       videos/11 (0,25).mp4    0.25  0.000000   0.000000  0.000000   \n",
       "4       videos/12 (0,25).mp4    0.25  0.181818  18.181818  0.000000   \n",
       "..                       ...     ...       ...        ...       ...   \n",
       "295   emotional/95 (0,8).mp4    0.80  0.272727   0.000000  9.090909   \n",
       "296   emotional/96 (0,8).mp4    0.80  0.181818   0.000000  0.000000   \n",
       "297  emotional/97 (0,85).mp4    0.85  0.272727   0.000000  0.000000   \n",
       "298  emotional/98 (0,75).mp4    0.75  0.000000   0.000000  0.000000   \n",
       "299  emotional/99 (0,85).mp4    0.85  0.272727   0.000000  9.090909   \n",
       "\n",
       "          Fear     Neutral  Happiness  Suprise       Anger   Contempt  \n",
       "0     0.000000    9.090909        0.0        0    0.000000  81.818182  \n",
       "1     0.000000    0.000000        0.0        0   81.818182   0.000000  \n",
       "2     0.000000  100.000000        0.0        0    0.000000   0.000000  \n",
       "3     0.000000    0.000000        0.0        0  100.000000   0.000000  \n",
       "4     0.000000    0.000000        0.0        0   81.818182   0.000000  \n",
       "..         ...         ...        ...      ...         ...        ...  \n",
       "295   0.000000    0.000000        0.0        0   81.818182   0.000000  \n",
       "296   0.000000    0.000000        0.0        0   90.909091   0.000000  \n",
       "297   9.090909    0.000000        0.0        0   81.818182   0.000000  \n",
       "298   0.000000    0.000000        0.0        0  100.000000   0.000000  \n",
       "299  18.181818    0.000000        0.0        0   72.727273   0.000000  \n",
       "\n",
       "[300 rows x 11 columns]"
      ]
     },
     "execution_count": 19,
     "metadata": {},
     "output_type": "execute_result"
    }
   ],
   "source": [
    "df"
   ]
  },
  {
   "cell_type": "code",
   "execution_count": 24,
   "metadata": {},
   "outputs": [
    {
     "name": "stderr",
     "output_type": "stream",
     "text": [
      "C:\\Users\\Operator\\AppData\\Local\\Temp\\ipykernel_5912\\4076047204.py:1: FutureWarning: The default value of numeric_only in DataFrame.corr is deprecated. In a future version, it will default to False. Select only valid columns or specify the value of numeric_only to silence this warning.\n",
      "  correlation_matrix = df.corr()\n"
     ]
    },
    {
     "data": {
      "text/plain": [
       "<Axes: >"
      ]
     },
     "execution_count": 24,
     "metadata": {},
     "output_type": "execute_result"
    },
    {
     "data": {
      "image/png": "[encoded data removed]",
      "text/plain": [
       "<Figure size 640x480 with 2 Axes>"
      ]
     },
     "metadata": {},
     "output_type": "display_data"
    }
   ],
   "source": [
    "correlation_matrix = df.corr()\n",
    "sns.heatmap(correlation_matrix, annot=True, cmap='coolwarm', fmt=\".1f\")"
   ]
  },
  {
   "cell_type": "code",
   "execution_count": 27,
   "metadata": {},
   "outputs": [],
   "source": [
    "df = df.drop(columns=['Suprise'])"
   ]
  },
  {
   "cell_type": "code",
   "execution_count": 28,
   "metadata": {},
   "outputs": [
    {
     "data": {
      "text/html": [
       "<div>\n",
       "<style scoped>\n",
       "    .dataframe tbody tr th:only-of-type {\n",
       "        vertical-align: middle;\n",
       "    }\n",
       "\n",
       "    .dataframe tbody tr th {\n",
       "        vertical-align: top;\n",
       "    }\n",
       "\n",
       "    .dataframe thead th {\n",
       "        text-align: right;\n",
       "    }\n",
       "</style>\n",
       "<table border=\"1\" class=\"dataframe\">\n",
       "  <thead>\n",
       "    <tr style=\"text-align: right;\">\n",
       "      <th></th>\n",
       "      <th>path</th>\n",
       "      <th>values</th>\n",
       "      <th>freq</th>\n",
       "      <th>Sadness</th>\n",
       "      <th>Disgust</th>\n",
       "      <th>Fear</th>\n",
       "      <th>Neutral</th>\n",
       "      <th>Happiness</th>\n",
       "      <th>Anger</th>\n",
       "      <th>Contempt</th>\n",
       "    </tr>\n",
       "  </thead>\n",
       "  <tbody>\n",
       "    <tr>\n",
       "      <th>0</th>\n",
       "      <td>videos/1 (0,2).mp4</td>\n",
       "      <td>0.20</td>\n",
       "      <td>0.363636</td>\n",
       "      <td>9.090909</td>\n",
       "      <td>0.0</td>\n",
       "      <td>0.0</td>\n",
       "      <td>9.090909</td>\n",
       "      <td>0.0</td>\n",
       "      <td>0.000000</td>\n",
       "      <td>81.818182</td>\n",
       "    </tr>\n",
       "    <tr>\n",
       "      <th>1</th>\n",
       "      <td>videos/10 (0,25).mp4</td>\n",
       "      <td>0.25</td>\n",
       "      <td>0.090909</td>\n",
       "      <td>18.181818</td>\n",
       "      <td>0.0</td>\n",
       "      <td>0.0</td>\n",
       "      <td>0.000000</td>\n",
       "      <td>0.0</td>\n",
       "      <td>81.818182</td>\n",
       "      <td>0.000000</td>\n",
       "    </tr>\n",
       "    <tr>\n",
       "      <th>2</th>\n",
       "      <td>videos/100 (0,1).mp4</td>\n",
       "      <td>0.10</td>\n",
       "      <td>0.000000</td>\n",
       "      <td>0.000000</td>\n",
       "      <td>0.0</td>\n",
       "      <td>0.0</td>\n",
       "      <td>100.000000</td>\n",
       "      <td>0.0</td>\n",
       "      <td>0.000000</td>\n",
       "      <td>0.000000</td>\n",
       "    </tr>\n",
       "    <tr>\n",
       "      <th>3</th>\n",
       "      <td>videos/11 (0,25).mp4</td>\n",
       "      <td>0.25</td>\n",
       "      <td>0.000000</td>\n",
       "      <td>0.000000</td>\n",
       "      <td>0.0</td>\n",
       "      <td>0.0</td>\n",
       "      <td>0.000000</td>\n",
       "      <td>0.0</td>\n",
       "      <td>100.000000</td>\n",
       "      <td>0.000000</td>\n",
       "    </tr>\n",
       "    <tr>\n",
       "      <th>4</th>\n",
       "      <td>videos/12 (0,25).mp4</td>\n",
       "      <td>0.25</td>\n",
       "      <td>0.181818</td>\n",
       "      <td>18.181818</td>\n",
       "      <td>0.0</td>\n",
       "      <td>0.0</td>\n",
       "      <td>0.000000</td>\n",
       "      <td>0.0</td>\n",
       "      <td>81.818182</td>\n",
       "      <td>0.000000</td>\n",
       "    </tr>\n",
       "  </tbody>\n",
       "</table>\n",
       "</div>"
      ],
      "text/plain": [
       "                   path  values      freq    Sadness  Disgust  Fear  \\\n",
       "0    videos/1 (0,2).mp4    0.20  0.363636   9.090909      0.0   0.0   \n",
       "1  videos/10 (0,25).mp4    0.25  0.090909  18.181818      0.0   0.0   \n",
       "2  videos/100 (0,1).mp4    0.10  0.000000   0.000000      0.0   0.0   \n",
       "3  videos/11 (0,25).mp4    0.25  0.000000   0.000000      0.0   0.0   \n",
       "4  videos/12 (0,25).mp4    0.25  0.181818  18.181818      0.0   0.0   \n",
       "\n",
       "      Neutral  Happiness       Anger   Contempt  \n",
       "0    9.090909        0.0    0.000000  81.818182  \n",
       "1    0.000000        0.0   81.818182   0.000000  \n",
       "2  100.000000        0.0    0.000000   0.000000  \n",
       "3    0.000000        0.0  100.000000   0.000000  \n",
       "4    0.000000        0.0   81.818182   0.000000  "
      ]
     },
     "execution_count": 28,
     "metadata": {},
     "output_type": "execute_result"
    }
   ],
   "source": [
    "df.head()"
   ]
  },
  {
   "cell_type": "code",
   "execution_count": 32,
   "metadata": {},
   "outputs": [],
   "source": [
    "X_train, X_test, y_train, y_test = train_test_split(df.iloc[:, 2:], df['values'], random_state=42, test_size=0.15)"
   ]
  },
  {
   "cell_type": "code",
   "execution_count": 33,
   "metadata": {},
   "outputs": [],
   "source": [
    "clf = KNeighborsRegressor()\n",
    "ridge = Ridge()\n",
    "reg = GradientBoostingRegressor()\n",
    "tree_clf = ExtraTreesRegressor()\n",
    "lasso = linear_model.Lasso()"
   ]
  },
  {
   "cell_type": "code",
   "execution_count": 34,
   "metadata": {},
   "outputs": [],
   "source": [
    "grid_search_dict = {\n",
    "    'KNN' : GridSearchCV(estimator = clf, cv = 5,\n",
    "                 param_grid = {'n_neighbors': [1, 3, 5, 7, 10, 15], 'p': [1, 2]},\n",
    "                 scoring = 'neg_mean_squared_error'),\n",
    "    'Ridge regression' :GridSearchCV(estimator = ridge, cv = 5,\n",
    "                 param_grid = {'alpha': [1, 0.01, 0.001, 0.0001, 1.5, 2], 'max_iter': [500, 1000, 2000]},\n",
    "                 scoring = 'neg_mean_squared_error'),\n",
    "    'Boosting' : GridSearchCV(estimator = reg, cv =5,\n",
    "                 param_grid = {\"learning_rate\":[0.3, 0.1, 0.03],\n",
    "                              \"n_estimators\":[50, 100, 200], 'max_depth': [1, 5, 7, 10]},\n",
    "                 scoring = 'neg_mean_squared_error'),\n",
    "    'Decision tree': GridSearchCV(estimator = tree_clf, cv = 5,\n",
    "                 param_grid = {'max_depth': [None, 10, 50], 'criterion' :\n",
    "                               ['squared_error', 'friedman_mse', 'absolute_error', 'poisson']},\n",
    "                 scoring = 'neg_mean_squared_error'),\n",
    "    'Lasso regression' : GridSearchCV(estimator = lasso, cv = 5,\n",
    "             param_grid = {'alpha': [1, 0.01, 0.001, 0.0001, 1.5, 2], 'max_iter': [500, 1000, 2000]},\n",
    "             scoring = 'neg_mean_squared_error')\n",
    "}"
   ]
  },
  {
   "cell_type": "code",
   "execution_count": 35,
   "metadata": {},
   "outputs": [
    {
     "data": {
      "application/vnd.jupyter.widget-view+json": {
       "model_id": "23b95eecc65a449f9fa9959103c69446",
       "version_major": 2,
       "version_minor": 0
      },
      "text/plain": [
       "  0%|          | 0/5 [00:00<?, ?it/s]"
      ]
     },
     "metadata": {},
     "output_type": "display_data"
    },
    {
     "name": "stdout",
     "output_type": "stream",
     "text": [
      "KNN -0.04275411764705882 {'n_neighbors': 5, 'p': 1}\n",
      "test mse: 0.03606\n",
      "r2: 0.5538355787737146\n",
      "Ridge regression -0.04879020719668868 {'alpha': 0.01, 'max_iter': 500}\n",
      "test mse: 0.04451144403499291\n",
      "r2: 0.44926725829676084\n",
      "Boosting -0.039525625439554145 {'learning_rate': 0.1, 'max_depth': 5, 'n_estimators': 50}\n",
      "test mse: 0.0302914551999247\n",
      "r2: 0.6252088303556196\n",
      "Decision tree -0.037248043364544514 {'criterion': 'poisson', 'max_depth': 10}\n",
      "test mse: 0.025658167316522068\n",
      "r2: 0.6825357357042912\n",
      "Lasso regression -0.04879073118881126 {'alpha': 0.0001, 'max_iter': 500}\n",
      "test mse: 0.04452397761191644\n",
      "r2: 0.44911218242061046\n"
     ]
    },
    {
     "data": {
      "image/png": "[encoded data removed]",
      "text/plain": [
       "<Figure size 640x480 with 1 Axes>"
      ]
     },
     "metadata": {},
     "output_type": "display_data"
    },
    {
     "data": {
      "image/png": "[encoded data removed]",
      "text/plain": [
       "<Figure size 640x480 with 1 Axes>"
      ]
     },
     "metadata": {},
     "output_type": "display_data"
    }
   ],
   "source": [
    "result = {}\n",
    "result_score = {}\n",
    "for model in tqdm(grid_search_dict.keys()):\n",
    "    mod = grid_search_dict[model].fit(X_train, y_train)\n",
    "    print(model, mod.best_score_, mod.best_params_)\n",
    "    pred = mod.predict(X_test)\n",
    "    t_m = mse(pred, y_test)\n",
    "    print('test mse:', t_m)\n",
    "    result[model] = t_m\n",
    "    score = r2(y_test, pred)\n",
    "    print('r2:', score)\n",
    "    result_score[model] = score\n",
    "keys = list(result.keys())\n",
    "values = list(result.values())\n",
    "plt.bar(keys, values)\n",
    "plt.xlabel('Модели')\n",
    "plt.ylabel('mse')\n",
    "plt.title('Test mse')\n",
    "plt.xticks(rotation=45, ha='right')\n",
    "plt.show()\n",
    "    \n",
    "keys = list(result_score.keys())\n",
    "values = list(result_score.values())\n",
    "plt.bar(keys, values)\n",
    "plt.xlabel('Модели')\n",
    "plt.ylabel('r2')\n",
    "plt.title('Test score')\n",
    "plt.xticks(rotation=45, ha='right')\n",
    "plt.show()"
   ]
  },
  {
   "cell_type": "code",
   "execution_count": 38,
   "metadata": {},
   "outputs": [
    {
     "data": {
      "text/plain": [
       "['model.joblib']"
      ]
     },
     "execution_count": 38,
     "metadata": {},
     "output_type": "execute_result"
    }
   ],
   "source": [
    "dump(grid_search_dict['Decision tree'], 'model.joblib')"
   ]
  },
  {
   "cell_type": "code",
   "execution_count": 39,
   "metadata": {},
   "outputs": [
    {
     "data": {
      "text/plain": [
       "0.6825357357042912"
      ]
     },
     "execution_count": 39,
     "metadata": {},
     "output_type": "execute_result"
    }
   ],
   "source": [
    "loaded_model = load('model.joblib')\n",
    "pred = loaded_model.predict(X_test)\n",
    "r2(y_test, pred)"
   ]
  },
  {
   "cell_type": "code",
   "execution_count": 51,
   "metadata": {},
   "outputs": [
    {
     "data": {
      "text/plain": [
       "Index(['freq', 'Sadness', 'Disgust', 'Fear', 'Neutral', 'Happiness', 'Anger',\n",
       "       'Contempt'],\n",
       "      dtype='object')"
      ]
     },
     "execution_count": 51,
     "metadata": {},
     "output_type": "execute_result"
    }
   ],
   "source": [
    "X_test.columns"
   ]
  },
  {
   "cell_type": "code",
   "execution_count": 56,
   "metadata": {},
   "outputs": [
    {
     "name": "stderr",
     "output_type": "stream",
     "text": [
      "C:\\Users\\Operator\\anaconda3\\Lib\\site-packages\\sklearn\\base.py:439: UserWarning: X does not have valid feature names, but ExtraTreesRegressor was fitted with feature names\n",
      "  warnings.warn(\n"
     ]
    },
    {
     "data": {
      "text/plain": [
       "0.7104919662215949"
      ]
     },
     "execution_count": 56,
     "metadata": {},
     "output_type": "execute_result"
    }
   ],
   "source": [
    "arr = [[0.0, 0.0, 0.0, 100.0,0.0, 0.0, 0.0, 0.0]]\n",
    "loaded_model.predict(arr)[0]"
   ]
  }
 ],
 "metadata": {
  "colab": {
   "provenance": []
  },
  "kernelspec": {
   "display_name": "Python 3 (ipykernel)",
   "language": "python",
   "name": "python3"
  },
  "language_info": {
   "codemirror_mode": {
    "name": "ipython",
    "version": 3
   },
   "file_extension": ".py",
   "mimetype": "text/x-python",
   "name": "python",
   "nbconvert_exporter": "python",
   "pygments_lexer": "ipython3",
   "version": "3.11.3"
  }
 },
 "nbformat": 4,
 "nbformat_minor": 1
}
